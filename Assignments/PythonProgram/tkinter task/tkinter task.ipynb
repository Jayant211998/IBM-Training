{
 "cells": [
  {
   "cell_type": "code",
   "execution_count": 10,
   "metadata": {},
   "outputs": [],
   "source": [
    "#tkinter task"
   ]
  },
  {
   "cell_type": "code",
   "execution_count": 13,
   "metadata": {},
   "outputs": [],
   "source": [
    "from tkinter import *\n",
    "e1,e2=\"\",\"\""
   ]
  },
  {
   "cell_type": "code",
   "execution_count": 14,
   "metadata": {},
   "outputs": [],
   "source": [
    "def click():\n",
    "        global e1\n",
    "        global e2\n",
    "        tk=Tk()\n",
    "        tk.geometry(\"200x200\")        \n",
    "        Label(tk, text=e1.get()).grid(row=5,padx=10, pady=10) \n",
    "        Label(tk, text=e2.get()).grid(row=6,padx=10, pady=10) \n",
    "        tk.mainloop()"
   ]
  },
  {
   "cell_type": "code",
   "execution_count": 16,
   "metadata": {},
   "outputs": [],
   "source": [
    "tk=Tk()\n",
    "tk.geometry(\"300x200\")\n",
    "Label(tk, text='First Name').grid(row=5,padx=10, pady=10) \n",
    "Label(tk, text='Last Name').grid(row=7,padx=10, pady=10) \n",
    "e1 = Entry(tk) \n",
    "e2 = Entry(tk) \n",
    "e1.grid(row=5, column=1,padx=10, pady=10) \n",
    "e2.grid(row=7, column=1,padx=10, pady=10)\n",
    "btn = Button(tk, text=\"submit\",padx=10, pady=10,command=click)\n",
    "btn.grid(row=9,column=1)\n",
    "tk.mainloop()"
   ]
  },
  {
   "cell_type": "code",
   "execution_count": null,
   "metadata": {},
   "outputs": [],
   "source": []
  }
 ],
 "metadata": {
  "kernelspec": {
   "display_name": "Python 3",
   "language": "python",
   "name": "python3"
  },
  "language_info": {
   "codemirror_mode": {
    "name": "ipython",
    "version": 3
   },
   "file_extension": ".py",
   "mimetype": "text/x-python",
   "name": "python",
   "nbconvert_exporter": "python",
   "pygments_lexer": "ipython3",
   "version": "3.7.6"
  }
 },
 "nbformat": 4,
 "nbformat_minor": 4
}
